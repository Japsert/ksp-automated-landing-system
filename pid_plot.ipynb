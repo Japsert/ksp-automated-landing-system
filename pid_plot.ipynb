{
 "cells": [
  {
   "cell_type": "code",
   "execution_count": null,
   "metadata": {},
   "outputs": [],
   "source": [
    "import numpy as np\n",
    "import matplotlib.pyplot as plt\n",
    "\n",
    "with open('logs/0.042_0.019_0.237.log') as f:\n",
    "    log = f.read()\n",
    "\n",
    "# Parse log data\n",
    "lines = log.strip().split('\\n')\n",
    "data = [line.split() for line in lines]\n",
    "data = np.array(data, dtype=np.float32)\n",
    "\n",
    "# Extract time, altitude, and throttle\n",
    "time = data[:, 0]\n",
    "altitude = data[:, 1]\n",
    "throttle = data[:, 2]\n",
    "\n",
    "# Create the plot\n",
    "fig, ax1 = plt.subplots()\n",
    "\n",
    "# Plot altitude\n",
    "ax1.set_xlabel('Time')\n",
    "ax1.set_ylabel('Altitude', color='blue')\n",
    "ax1.axhline(y=22, color='gray', linestyle='--')\n",
    "ax1.tick_params(axis='y', labelcolor='blue')\n",
    "ax1.set_ylim(bottom=0, top=max(altitude) + 1)\n",
    "ax1.plot(time, altitude, color='blue')\n",
    "\n",
    "# Create a second y-axis for throttle\n",
    "ax2 = ax1.twinx()\n",
    "ax2.set_ylabel('Throttle', color='red')\n",
    "ax2.axhline(y=0, color='lightgray')\n",
    "ax2.axhline(y=1, color='lightgray')\n",
    "ax2.tick_params(axis='y', labelcolor='red')\n",
    "ax2.set_ylim(bottom=-0.1, top=1.1)\n",
    "ax2.plot(time, throttle, color='red')\n",
    "\n",
    "# Add a title\n",
    "plt.title('Altitude and Throttle')\n",
    "\n",
    "# Display the plot\n",
    "plt.show()\n"
   ]
  }
 ],
 "metadata": {
  "kernelspec": {
   "display_name": "Python 3",
   "language": "python",
   "name": "python3"
  },
  "language_info": {
   "codemirror_mode": {
    "name": "ipython",
    "version": 3
   },
   "file_extension": ".py",
   "mimetype": "text/x-python",
   "name": "python",
   "nbconvert_exporter": "python",
   "pygments_lexer": "ipython3",
   "version": "3.10.11"
  },
  "orig_nbformat": 4
 },
 "nbformat": 4,
 "nbformat_minor": 2
}
