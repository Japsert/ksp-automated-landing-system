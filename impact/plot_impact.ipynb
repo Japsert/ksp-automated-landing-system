{
 "cells": [
  {
   "cell_type": "code",
   "execution_count": null,
   "metadata": {},
   "outputs": [],
   "source": [
    "# Plot lat/lng data. The data is animated in time, currently every 2ms.\n",
    "# Could be improved by using the time data to animate the data in real time.\n",
    "\n",
    "import matplotlib.pyplot as plt\n",
    "from matplotlib.animation import FuncAnimation\n",
    "import pandas as pd\n",
    "from IPython.display import HTML\n",
    "\n",
    "data = pd.read_csv('impact.log')\n",
    "times = data['time'] # currently unused\n",
    "lats = data['lat']\n",
    "lngs = data['lng']\n",
    "\n",
    "fig, ax = plt.subplots()\n",
    "ax.set_aspect(aspect='equal', adjustable='box')\n",
    "line, = ax.plot([], [], 'bo-', markersize=1, linewidth=1)\n",
    "\n",
    "plt.close()\n",
    "\n",
    "def init():\n",
    "    line.set_data([], [])\n",
    "    return line,\n",
    "\n",
    "def update(frame):\n",
    "    line.set_data(lngs[:frame], lats[:frame])\n",
    "    ax.set_title('Time: ' + str(times[frame]))\n",
    "    \n",
    "animation = FuncAnimation(fig=fig, func=update, frames=len(lats), init_func=init, interval=2)\n",
    "\n",
    "HTML(animation.to_jshtml(default_mode='once'))"
   ]
  }
 ],
 "metadata": {
  "kernelspec": {
   "display_name": "Python 3",
   "language": "python",
   "name": "python3"
  },
  "language_info": {
   "codemirror_mode": {
    "name": "ipython",
    "version": 3
   },
   "file_extension": ".py",
   "mimetype": "text/x-python",
   "name": "python",
   "nbconvert_exporter": "python",
   "pygments_lexer": "ipython3",
   "version": "3.11.3"
  },
  "orig_nbformat": 4
 },
 "nbformat": 4,
 "nbformat_minor": 2
}
